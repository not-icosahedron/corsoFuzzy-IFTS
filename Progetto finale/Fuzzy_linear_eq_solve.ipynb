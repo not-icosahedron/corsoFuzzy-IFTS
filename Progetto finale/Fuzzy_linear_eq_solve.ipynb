{
  "nbformat": 4,
  "nbformat_minor": 0,
  "metadata": {
    "colab": {
      "provenance": []
    },
    "kernelspec": {
      "name": "python3",
      "display_name": "Python 3"
    },
    "language_info": {
      "name": "python"
    }
  },
  "cells": [
    {
      "cell_type": "code",
      "execution_count": 14,
      "metadata": {
        "id": "JgLQngsPFxz_"
      },
      "outputs": [],
      "source": [
        "from sympy.interactive import printing\n",
        "printing.init_printing(use_latex=True)\n",
        "from sympy import Eq, solve_linear_system, Matrix\n",
        "from numpy import linalg\n",
        "import numpy as np\n",
        "import sympy as sp\n",
        "\n",
        "import matplotlib.pyplot as plt"
      ]
    },
    {
      "cell_type": "code",
      "source": [
        "print(\"Equazioni da risolvere:\")\n",
        "\n",
        "eq1 = sp.Function('eq1')\n",
        "eq2 = sp.Function('eq2')\n",
        "\n",
        "x,y = sp.symbols('x y')\n",
        "\n",
        "eq1 = Eq(2*x-y, -4)\n",
        "eq2 = Eq(3*x-1 , -2)\n",
        "\n",
        "display(eq1)\n",
        "display(eq2)"
      ],
      "metadata": {
        "colab": {
          "base_uri": "https://localhost:8080/",
          "height": 77
        },
        "id": "7EsFLYBPGLiX",
        "outputId": "e5a33274-f1bd-42b0-eebd-8fdfe77c3a67"
      },
      "execution_count": 5,
      "outputs": [
        {
          "output_type": "stream",
          "name": "stdout",
          "text": [
            "Equazioni da risolvere:\n"
          ]
        },
        {
          "output_type": "display_data",
          "data": {
            "text/plain": [
              "2⋅x - y = -4"
            ],
            "image/png": "[encoded data removed]",
            "text/latex": "$\\displaystyle 2 x - y = -4$"
          },
          "metadata": {}
        },
        {
          "output_type": "display_data",
          "data": {
            "text/plain": [
              "3⋅x - 1 = -2"
            ],
            "image/png": "[encoded data removed]",
            "text/latex": "$\\displaystyle 3 x - 1 = -2$"
          },
          "metadata": {}
        }
      ]
    },
    {
      "cell_type": "code",
      "source": [
        "#print(\"Trasformo in matrice:\")\n",
        "row1 = [2, -1]\n",
        "row2 = [3, -1]\n",
        "mat = np.array([row1, row2])\n",
        "cons = np.array([-4, -2])\n",
        "\n",
        "print(\"matrice A:\")\n",
        "display(mat)\n",
        "\n",
        "print(\"\\nvettore b:\")\n",
        "display(cons)\n",
        "\n",
        "answer = linalg.solve(mat,cons)\n",
        "\n",
        "print(\"\\nSoluzione:\")\n",
        "\n",
        "xval = int(answer[0])\n",
        "yval = int(answer[1])\n",
        "\n",
        "print(\"x= \",xval)\n",
        "print(\"y= \",yval)"
      ],
      "metadata": {
        "colab": {
          "base_uri": "https://localhost:8080/",
          "height": 191
        },
        "id": "CnmdcxOfHIRG",
        "outputId": "071008c7-ef85-47c7-96fb-904bac873d5d"
      },
      "execution_count": 20,
      "outputs": [
        {
          "output_type": "stream",
          "name": "stdout",
          "text": [
            "matrice A:\n"
          ]
        },
        {
          "output_type": "display_data",
          "data": {
            "text/plain": [
              "array([[ 2, -1],\n",
              "       [ 3, -1]])"
            ]
          },
          "metadata": {}
        },
        {
          "output_type": "stream",
          "name": "stdout",
          "text": [
            "\n",
            "vettore b:\n"
          ]
        },
        {
          "output_type": "display_data",
          "data": {
            "text/plain": [
              "array([-4, -2])"
            ]
          },
          "metadata": {}
        },
        {
          "output_type": "stream",
          "name": "stdout",
          "text": [
            "\n",
            "Soluzione:\n",
            "x=  2\n",
            "y=  8\n"
          ]
        }
      ]
    },
    {
      "cell_type": "code",
      "source": [
        "def plot_linear_eq(a, b, clr):\n",
        "    x = list(range(-10, 11))\n",
        "    y=[(a*i + b) for i in x]\n",
        "    plt.plot(x, y, label ='linear', linestyle='-', color=clr)\n",
        "\n",
        "plot_linear_eq(2, -1, 'r')\n",
        "plot_linear_eq(3, -1, 'b')\n",
        "plt.annotate(\"(%s, %s)\"%(xval, yval), (float(xval), (float(yval))) )\n",
        "\n",
        "plt.show(block=False)"
      ],
      "metadata": {
        "colab": {
          "base_uri": "https://localhost:8080/",
          "height": 265
        },
        "id": "HCx49vQTNQHg",
        "outputId": "de8898f8-cbbc-4062-d67f-cbd2248c3f37"
      },
      "execution_count": 21,
      "outputs": [
        {
          "output_type": "display_data",
          "data": {
            "text/plain": [
              "<Figure size 432x288 with 1 Axes>"
            ],
            "image/png": "[encoded data removed]"
          },
          "metadata": {
            "needs_background": "light"
          }
        }
      ]
    }
  ]
}